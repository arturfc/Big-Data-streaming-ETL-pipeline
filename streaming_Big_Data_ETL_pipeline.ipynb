{
  "nbformat": 4,
  "nbformat_minor": 0,
  "metadata": {
    "colab": {
      "name": "streaming_Big_Data_ETL_pipeline-.ipynb",
      "provenance": []
    },
    "kernelspec": {
      "name": "python3",
      "display_name": "Python 3"
    },
    "language_info": {
      "name": "python"
    }
  },
  "cells": [
    {
      "cell_type": "code",
      "execution_count": 1,
      "metadata": {
        "id": "lQYfxNY_4Odv"
      },
      "outputs": [],
      "source": [
        "!apt-get install openjdk-8-jdk-headless -qq > /dev/null"
      ]
    },
    {
      "cell_type": "code",
      "source": [
        "!wget -q https://downloads.apache.org/spark/spark-3.1.2/spark-3.1.2-bin-hadoop2.7.tgz"
      ],
      "metadata": {
        "id": "oilN86_14RSR"
      },
      "execution_count": 2,
      "outputs": []
    },
    {
      "cell_type": "code",
      "source": [
        "!tar xf /content/spark-3.1.2-bin-hadoop2.7.tgz"
      ],
      "metadata": {
        "id": "EKePwlp34TX1"
      },
      "execution_count": 3,
      "outputs": []
    },
    {
      "cell_type": "code",
      "source": [
        "#variáveis do ambiente\n",
        "import os\n",
        "os.environ[\"JAVA_HOME\"] = \"/usr/lib/jvm/java-8-openjdk-amd64\"\n",
        "os.environ[\"SPARK_HOME\"] =  \"/content/spark-3.1.2-bin-hadoop2.7\""
      ],
      "metadata": {
        "id": "xXzDxD6o4Ubm"
      },
      "execution_count": 4,
      "outputs": []
    },
    {
      "cell_type": "code",
      "source": [
        "!pip install -q findspark"
      ],
      "metadata": {
        "id": "tjJtAxhN4VlM"
      },
      "execution_count": 5,
      "outputs": []
    },
    {
      "cell_type": "code",
      "source": [
        "import findspark\n",
        "findspark.init(os.environ[\"SPARK_HOME\"])"
      ],
      "metadata": {
        "id": "dk5Td8Hm4WwY"
      },
      "execution_count": 6,
      "outputs": []
    },
    {
      "cell_type": "code",
      "source": [
        "#criando spark session\n",
        "from pyspark.sql import SparkSession\n",
        "#import pyspark.sql.functions as F\n",
        "#import pyspark.sql.types as T\n",
        "\n",
        "spark = (SparkSession.builder\n",
        "         .master('local')\n",
        "         .appName('streaming_ETL_pipeline')\n",
        "         .getOrCreate()\n",
        ")"
      ],
      "metadata": {
        "id": "KTgIgUkg4ZQl"
      },
      "execution_count": 7,
      "outputs": []
    },
    {
      "cell_type": "code",
      "source": [
        "from google.colab import drive\n",
        "drive.mount('/content/drive')"
      ],
      "metadata": {
        "colab": {
          "base_uri": "https://localhost:8080/"
        },
        "id": "wd6LhYUpa5wg",
        "outputId": "189eaeec-bfc4-403a-fee2-cdb2bb575c3b"
      },
      "execution_count": 8,
      "outputs": [
        {
          "output_type": "stream",
          "name": "stdout",
          "text": [
            "Mounted at /content/drive\n"
          ]
        }
      ]
    },
    {
      "cell_type": "code",
      "source": [
        "#Listando todos...\n",
        "!ls /content/drive/MyDrive/airlines-datasets/"
      ],
      "metadata": {
        "colab": {
          "base_uri": "https://localhost:8080/"
        },
        "id": "4HbUInY_gEGE",
        "outputId": "4158e355-bfb6-410f-bc16-d04bd38996a6"
      },
      "execution_count": 9,
      "outputs": [
        {
          "output_type": "stream",
          "name": "stdout",
          "text": [
            "part-00000.csv\tpart-00004.csv\tpart-00008.csv\tpart-00012.csv\n",
            "part-00001.csv\tpart-00005.csv\tpart-00009.csv\tpart-00013.csv\n",
            "part-00002.csv\tpart-00006.csv\tpart-00010.csv\tpart-00014.csv\n",
            "part-00003.csv\tpart-00007.csv\tpart-00011.csv\tpart-00015.csv\n"
          ]
        }
      ]
    },
    {
      "cell_type": "code",
      "source": [
        "part = spark.read.csv(\"/content/drive/MyDrive/airlines-datasets/part-00000.csv\", header=True, inferSchema=True)"
      ],
      "metadata": {
        "id": "08EAXiFU4qJC"
      },
      "execution_count": 10,
      "outputs": []
    },
    {
      "cell_type": "code",
      "source": [
        "part.printSchema()"
      ],
      "metadata": {
        "colab": {
          "base_uri": "https://localhost:8080/"
        },
        "id": "ozD0ouGleM1x",
        "outputId": "c0f82c1c-6967-4417-8e30-b6a862fa23a1"
      },
      "execution_count": 11,
      "outputs": [
        {
          "output_type": "stream",
          "name": "stdout",
          "text": [
            "root\n",
            " |-- Year: integer (nullable = true)\n",
            " |-- Month: integer (nullable = true)\n",
            " |-- DayofMonth: integer (nullable = true)\n",
            " |-- DayOfWeek: integer (nullable = true)\n",
            " |-- DepTime: string (nullable = true)\n",
            " |-- CRSDepTime: integer (nullable = true)\n",
            " |-- ArrTime: string (nullable = true)\n",
            " |-- CRSArrTime: integer (nullable = true)\n",
            " |-- UniqueCarrier: string (nullable = true)\n",
            " |-- FlightNum: integer (nullable = true)\n",
            " |-- TailNum: string (nullable = true)\n",
            " |-- ActualElapsedTime: string (nullable = true)\n",
            " |-- CRSElapsedTime: integer (nullable = true)\n",
            " |-- AirTime: string (nullable = true)\n",
            " |-- ArrDelay: string (nullable = true)\n",
            " |-- DepDelay: string (nullable = true)\n",
            " |-- Origin: string (nullable = true)\n",
            " |-- Dest: string (nullable = true)\n",
            " |-- Distance: string (nullable = true)\n",
            " |-- TaxiIn: string (nullable = true)\n",
            " |-- TaxiOut: string (nullable = true)\n",
            " |-- Cancelled: integer (nullable = true)\n",
            " |-- CancellationCode: string (nullable = true)\n",
            " |-- Diverted: integer (nullable = true)\n",
            " |-- CarrierDelay: string (nullable = true)\n",
            " |-- WeatherDelay: string (nullable = true)\n",
            " |-- NASDelay: string (nullable = true)\n",
            " |-- SecurityDelay: string (nullable = true)\n",
            " |-- LateAircraftDelay: string (nullable = true)\n",
            " |-- IsArrDelayed: string (nullable = true)\n",
            " |-- IsDepDelayed: string (nullable = true)\n",
            "\n"
          ]
        }
      ]
    },
    {
      "cell_type": "code",
      "source": [
        "#Utilizando part-00000.csv como entrada para criar a versão da stream. Depois, será lido cada arquivo um por um, simulando um sistema de streaming de dados\n",
        "dataSchema = part.schema\n",
        "dataSchema"
      ],
      "metadata": {
        "colab": {
          "base_uri": "https://localhost:8080/"
        },
        "id": "aiiidQuQepUq",
        "outputId": "a73056ff-5b3f-47ed-ebda-b13c8d2b311f"
      },
      "execution_count": 12,
      "outputs": [
        {
          "output_type": "execute_result",
          "data": {
            "text/plain": [
              "StructType(List(StructField(Year,IntegerType,true),StructField(Month,IntegerType,true),StructField(DayofMonth,IntegerType,true),StructField(DayOfWeek,IntegerType,true),StructField(DepTime,StringType,true),StructField(CRSDepTime,IntegerType,true),StructField(ArrTime,StringType,true),StructField(CRSArrTime,IntegerType,true),StructField(UniqueCarrier,StringType,true),StructField(FlightNum,IntegerType,true),StructField(TailNum,StringType,true),StructField(ActualElapsedTime,StringType,true),StructField(CRSElapsedTime,IntegerType,true),StructField(AirTime,StringType,true),StructField(ArrDelay,StringType,true),StructField(DepDelay,StringType,true),StructField(Origin,StringType,true),StructField(Dest,StringType,true),StructField(Distance,StringType,true),StructField(TaxiIn,StringType,true),StructField(TaxiOut,StringType,true),StructField(Cancelled,IntegerType,true),StructField(CancellationCode,StringType,true),StructField(Diverted,IntegerType,true),StructField(CarrierDelay,StringType,true),StructField(WeatherDelay,StringType,true),StructField(NASDelay,StringType,true),StructField(SecurityDelay,StringType,true),StructField(LateAircraftDelay,StringType,true),StructField(IsArrDelayed,StringType,true),StructField(IsDepDelayed,StringType,true)))"
            ]
          },
          "metadata": {},
          "execution_count": 12
        }
      ]
    },
    {
      "cell_type": "code",
      "source": [
        "#Limitando o flow de streaming para 1 arquivo de cada vez por trigger\n",
        "streaming = (\n",
        "    spark.readStream.schema(dataSchema)\n",
        "    .option(\"maxFilesPerTrigger\", 1)\n",
        "    .csv(\"/content/drive/MyDrive/airlines-datasets/\")\n",
        ")"
      ],
      "metadata": {
        "id": "EUn4LxmqjR-g"
      },
      "execution_count": 13,
      "outputs": []
    },
    {
      "cell_type": "code",
      "source": [
        "#Aplicando transformação: rankeando número de voo com respectivas origens e destinos com as maiores médias de atrasos de chegada a partir de um total de 20 voos\n",
        "streaming.createOrReplaceTempView('ranking_arrDelay_table')\n",
        "ranking_arrDelay = spark.sql('''SELECT * FROM (\n",
        "              SELECT FlightNum, Origin, Dest, count(*) as total_flights, round(mean(ArrDelay),2) as mean_ArrDelay_in_minutes \n",
        "              FROM ranking_arrDelay_table \n",
        "              GROUP BY flightNum, Origin, Dest \n",
        "              ORDER BY mean_ArrDelay_in_minutes desc\n",
        "             )\n",
        "             WHERE total_flights > 20''')"
      ],
      "metadata": {
        "id": "Sbg5hFUQvj79"
      },
      "execution_count": 14,
      "outputs": []
    },
    {
      "cell_type": "code",
      "source": [
        "activityQuery = (\n",
        "    ranking_arrDelay.writeStream.queryName(\"ranking_arrDelay_table\")\n",
        "    .format(\"memory\")\n",
        "    .outputMode(\"complete\")\n",
        "    .start()\n",
        ")\n",
        "\n",
        "import time\n",
        "\n",
        "for x in range(15):\n",
        "    _df = spark.sql(\"SELECT * FROM ranking_arrDelay_table\")\n",
        "    if _df.count() > 0:\n",
        "        print(\"Total rows:\", _df.count())\n",
        "        _df.show(10)\n",
        "    time.sleep(1)"
      ],
      "metadata": {
        "colab": {
          "base_uri": "https://localhost:8080/"
        },
        "id": "ie1CQAvRv7kQ",
        "outputId": "e1c5291e-9b15-4d3e-b9e1-5cbc1add7a3a"
      },
      "execution_count": 15,
      "outputs": [
        {
          "output_type": "stream",
          "name": "stdout",
          "text": [
            "Total rows: 16542\n",
            "+---------+------+----+-------------+------------------------+\n",
            "|FlightNum|Origin|Dest|total_flights|mean_ArrDelay_in_minutes|\n",
            "+---------+------+----+-------------+------------------------+\n",
            "|      355|   DEN| SEA|           30|                   73.66|\n",
            "|       81|   LAX| HNL|           34|                   66.03|\n",
            "|      398|   LAS| ABQ|           36|                   65.81|\n",
            "|      960|   SJU| EWR|           81|                   64.23|\n",
            "|      103|   ATL| PHX|           25|                   58.92|\n",
            "|      399|   MSP| SMF|           27|                    58.1|\n",
            "|     1105|   DEN| SFO|           69|                   57.93|\n",
            "|      345|   SJC| SFO|           28|                   56.81|\n",
            "|      325|   MCI| SFO|           85|                   55.93|\n",
            "|     1637|   IAD| DEN|           54|                   55.44|\n",
            "+---------+------+----+-------------+------------------------+\n",
            "only showing top 10 rows\n",
            "\n",
            "Total rows: 18677\n",
            "+---------+------+----+-------------+------------------------+\n",
            "|FlightNum|Origin|Dest|total_flights|mean_ArrDelay_in_minutes|\n",
            "+---------+------+----+-------------+------------------------+\n",
            "|     1631|   ATL| DEN|           21|                   115.8|\n",
            "|      863|   BOS| TPA|           27|                   76.96|\n",
            "|      855|   DEN| LAX|           38|                   72.57|\n",
            "|      970|   MIA| BOS|           64|                   70.67|\n",
            "|     1421|   SLC| ANC|           43|                   69.32|\n",
            "|     1721|   SEA| ANC|           36|                   68.17|\n",
            "|      398|   LAS| ABQ|           36|                   65.81|\n",
            "|      658|   MSP| MKE|           34|                   64.09|\n",
            "|       85|   MIA| SJU|           34|                   62.18|\n",
            "|      505|   MIA| LAX|           91|                   61.69|\n",
            "+---------+------+----+-------------+------------------------+\n",
            "only showing top 10 rows\n",
            "\n",
            "Total rows: 22995\n",
            "+---------+------+----+-------------+------------------------+\n",
            "|FlightNum|Origin|Dest|total_flights|mean_ArrDelay_in_minutes|\n",
            "+---------+------+----+-------------+------------------------+\n",
            "|     1631|   ATL| DEN|           21|                   115.8|\n",
            "|       12|   HNL| SFO|           24|                   77.13|\n",
            "|      398|   LAS| ABQ|           36|                   65.81|\n",
            "|      658|   MSP| MKE|           34|                   64.09|\n",
            "|      779|   MLB| EWR|           23|                   61.45|\n",
            "|       11|   SFO| HNL|           24|                   60.88|\n",
            "|     1605|   IAD| DEN|           47|                    60.5|\n",
            "|      970|   MIA| BOS|           92|                   59.47|\n",
            "|      103|   ATL| PHX|           25|                   58.92|\n",
            "|     1038|   ATL| EWR|           24|                   58.33|\n",
            "+---------+------+----+-------------+------------------------+\n",
            "only showing top 10 rows\n",
            "\n",
            "Total rows: 26106\n",
            "+---------+------+----+-------------+------------------------+\n",
            "|FlightNum|Origin|Dest|total_flights|mean_ArrDelay_in_minutes|\n",
            "+---------+------+----+-------------+------------------------+\n",
            "|     1631|   ATL| DEN|           21|                   115.8|\n",
            "|       59|   DEN| LAX|           21|                   87.24|\n",
            "|     1038|   ATL| EWR|           28|                   79.25|\n",
            "|      398|   LAS| ABQ|           36|                   65.81|\n",
            "|      779|   MLB| EWR|           23|                   61.45|\n",
            "|       12|   HNL| SFO|           32|                   61.06|\n",
            "|     1605|   IAD| DEN|           47|                    60.5|\n",
            "|      103|   ATL| PHX|           25|                   58.92|\n",
            "|      921|   FLL| MIA|           29|                   57.11|\n",
            "|      970|   MIA| BOS|          116|                   55.96|\n",
            "+---------+------+----+-------------+------------------------+\n",
            "only showing top 10 rows\n",
            "\n",
            "Total rows: 29195\n",
            "+---------+------+----+-------------+------------------------+\n",
            "|FlightNum|Origin|Dest|total_flights|mean_ArrDelay_in_minutes|\n",
            "+---------+------+----+-------------+------------------------+\n",
            "|     1631|   ATL| DEN|           21|                   115.8|\n",
            "|     1038|   ATL| EWR|           32|                   72.53|\n",
            "|       59|   DEN| LAX|           30|                   66.37|\n",
            "|      398|   LAS| ABQ|           36|                   65.81|\n",
            "|      779|   MLB| EWR|           23|                   61.45|\n",
            "|     1605|   IAD| DEN|           47|                    60.5|\n",
            "|      103|   ATL| PHX|           25|                   58.92|\n",
            "|      921|   FLL| MIA|           29|                   57.11|\n",
            "|      970|   MIA| BOS|          116|                   55.96|\n",
            "|      838|   EWR| BTV|           23|                   55.86|\n",
            "+---------+------+----+-------------+------------------------+\n",
            "only showing top 10 rows\n",
            "\n",
            "Total rows: 33242\n",
            "+---------+------+----+-------------+------------------------+\n",
            "|FlightNum|Origin|Dest|total_flights|mean_ArrDelay_in_minutes|\n",
            "+---------+------+----+-------------+------------------------+\n",
            "|     1631|   ATL| DEN|           21|                   115.8|\n",
            "|     1038|   ATL| EWR|           32|                   72.53|\n",
            "|      398|   LAS| ABQ|           36|                   65.81|\n",
            "|      760|   LNK| ORD|           31|                   63.43|\n",
            "|       59|   DEN| LAX|           34|                    63.0|\n",
            "|      779|   MLB| EWR|           23|                   61.45|\n",
            "|     1605|   IAD| DEN|           47|                    60.5|\n",
            "|      103|   ATL| PHX|           25|                   58.92|\n",
            "|       45|   JFK| MIA|          111|                   57.94|\n",
            "|      473|   JFK| PIT|           24|                   57.17|\n",
            "+---------+------+----+-------------+------------------------+\n",
            "only showing top 10 rows\n",
            "\n",
            "Total rows: 36796\n",
            "+---------+------+----+-------------+------------------------+\n",
            "|FlightNum|Origin|Dest|total_flights|mean_ArrDelay_in_minutes|\n",
            "+---------+------+----+-------------+------------------------+\n",
            "|     1631|   ATL| DEN|           21|                   115.8|\n",
            "|     1038|   ATL| EWR|           32|                   72.53|\n",
            "|      398|   LAS| ABQ|           36|                   65.81|\n",
            "|       59|   DEN| LAX|           44|                   62.57|\n",
            "|      779|   MLB| EWR|           23|                   61.45|\n",
            "|     1605|   IAD| DEN|           47|                    60.5|\n",
            "|      103|   ATL| PHX|           25|                   58.92|\n",
            "|      921|   FLL| MIA|           29|                   57.11|\n",
            "|      970|   MIA| BOS|          116|                   55.96|\n",
            "|      838|   EWR| BTV|           23|                   55.86|\n",
            "+---------+------+----+-------------+------------------------+\n",
            "only showing top 10 rows\n",
            "\n",
            "Total rows: 39921\n",
            "+---------+------+----+-------------+------------------------+\n",
            "|FlightNum|Origin|Dest|total_flights|mean_ArrDelay_in_minutes|\n",
            "+---------+------+----+-------------+------------------------+\n",
            "|     1631|   ATL| DEN|           21|                   115.8|\n",
            "|     1038|   ATL| EWR|           32|                   72.53|\n",
            "|      398|   LAS| ABQ|           36|                   65.81|\n",
            "|      779|   MLB| EWR|           23|                   61.45|\n",
            "|     1605|   IAD| DEN|           47|                    60.5|\n",
            "|      103|   ATL| PHX|           25|                   58.92|\n",
            "|      921|   FLL| MIA|           29|                   57.11|\n",
            "|      970|   MIA| BOS|          116|                   55.96|\n",
            "|      838|   EWR| BTV|           23|                   55.86|\n",
            "|      711|   PIT| ERI|           21|                   55.71|\n",
            "+---------+------+----+-------------+------------------------+\n",
            "only showing top 10 rows\n",
            "\n",
            "Total rows: 45518\n",
            "+---------+------+----+-------------+------------------------+\n",
            "|FlightNum|Origin|Dest|total_flights|mean_ArrDelay_in_minutes|\n",
            "+---------+------+----+-------------+------------------------+\n",
            "|     1631|   ATL| DEN|           21|                   115.8|\n",
            "|     1038|   ATL| EWR|           32|                   72.53|\n",
            "|      398|   LAS| ABQ|           36|                   65.81|\n",
            "|      779|   MLB| EWR|           23|                   61.45|\n",
            "|     1605|   IAD| DEN|           47|                    60.5|\n",
            "|      103|   ATL| PHX|           25|                   58.92|\n",
            "|      921|   FLL| MIA|           29|                   57.11|\n",
            "|      970|   MIA| BOS|          116|                   55.96|\n",
            "|      838|   EWR| BTV|           23|                   55.86|\n",
            "|      711|   PIT| ERI|           21|                   55.71|\n",
            "+---------+------+----+-------------+------------------------+\n",
            "only showing top 10 rows\n",
            "\n"
          ]
        }
      ]
    },
    {
      "cell_type": "code",
      "source": [
        "spark.streams.active[0].isActive"
      ],
      "metadata": {
        "colab": {
          "base_uri": "https://localhost:8080/"
        },
        "id": "ZEQcLY7vxuby",
        "outputId": "deb5af8a-752d-4f3f-9d28-9874ba1ad182"
      },
      "execution_count": 16,
      "outputs": [
        {
          "output_type": "execute_result",
          "data": {
            "text/plain": [
              "True"
            ]
          },
          "metadata": {},
          "execution_count": 16
        }
      ]
    },
    {
      "cell_type": "code",
      "source": [
        "activityQuery.status"
      ],
      "metadata": {
        "colab": {
          "base_uri": "https://localhost:8080/"
        },
        "id": "bJtNnmoXx0Uc",
        "outputId": "817e27a1-4451-4913-e341-d9cd55af7ec2"
      },
      "execution_count": 17,
      "outputs": [
        {
          "output_type": "execute_result",
          "data": {
            "text/plain": [
              "{'isDataAvailable': True,\n",
              " 'isTriggerActive': True,\n",
              " 'message': 'Processing new data'}"
            ]
          },
          "metadata": {},
          "execution_count": 17
        }
      ]
    },
    {
      "cell_type": "code",
      "source": [
        "activityQuery.stop()"
      ],
      "metadata": {
        "id": "h95jS2EHx1m8"
      },
      "execution_count": 18,
      "outputs": []
    }
  ]
}