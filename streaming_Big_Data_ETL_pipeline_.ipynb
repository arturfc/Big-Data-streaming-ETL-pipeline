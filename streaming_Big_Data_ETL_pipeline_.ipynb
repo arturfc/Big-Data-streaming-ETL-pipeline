{
  "nbformat": 4,
  "nbformat_minor": 0,
  "metadata": {
    "colab": {
      "name": "streaming_Big_Data_ETL_pipeline-.ipynb",
      "provenance": []
    },
    "kernelspec": {
      "name": "python3",
      "display_name": "Python 3"
    },
    "language_info": {
      "name": "python"
    }
  },
  "cells": [
    {
      "cell_type": "code",
      "execution_count": 1,
      "metadata": {
        "id": "lQYfxNY_4Odv"
      },
      "outputs": [],
      "source": [
        "!apt-get install openjdk-8-jdk-headless -qq > /dev/null"
      ]
    },
    {
      "cell_type": "code",
      "source": [
        "!wget -q https://downloads.apache.org/spark/spark-3.1.2/spark-3.1.2-bin-hadoop2.7.tgz"
      ],
      "metadata": {
        "id": "oilN86_14RSR"
      },
      "execution_count": 2,
      "outputs": []
    },
    {
      "cell_type": "code",
      "source": [
        "!tar xf /content/spark-3.1.2-bin-hadoop2.7.tgz"
      ],
      "metadata": {
        "id": "EKePwlp34TX1"
      },
      "execution_count": 3,
      "outputs": []
    },
    {
      "cell_type": "code",
      "source": [
        "#variáveis do ambiente\n",
        "import os\n",
        "os.environ[\"JAVA_HOME\"] = \"/usr/lib/jvm/java-8-openjdk-amd64\"\n",
        "os.environ[\"SPARK_HOME\"] =  \"/content/spark-3.1.2-bin-hadoop2.7\""
      ],
      "metadata": {
        "id": "xXzDxD6o4Ubm"
      },
      "execution_count": 4,
      "outputs": []
    },
    {
      "cell_type": "code",
      "source": [
        "!pip install -q findspark"
      ],
      "metadata": {
        "id": "tjJtAxhN4VlM"
      },
      "execution_count": 5,
      "outputs": []
    },
    {
      "cell_type": "code",
      "source": [
        "import findspark\n",
        "findspark.init(os.environ[\"SPARK_HOME\"])"
      ],
      "metadata": {
        "id": "dk5Td8Hm4WwY"
      },
      "execution_count": 6,
      "outputs": []
    },
    {
      "cell_type": "code",
      "source": [
        "#criando spark session\n",
        "from pyspark.sql import SparkSession\n",
        "#import pyspark.sql.functions as F\n",
        "#import pyspark.sql.types as T\n",
        "\n",
        "spark = (SparkSession.builder\n",
        "         .master('local')\n",
        "         .appName('streaming_ETL_pipeline')\n",
        "         .getOrCreate()\n",
        ")"
      ],
      "metadata": {
        "id": "KTgIgUkg4ZQl"
      },
      "execution_count": 7,
      "outputs": []
    },
    {
      "cell_type": "code",
      "source": [
        "from google.colab import drive\n",
        "drive.mount('/content/drive')"
      ],
      "metadata": {
        "colab": {
          "base_uri": "https://localhost:8080/"
        },
        "id": "wd6LhYUpa5wg",
        "outputId": "6531af36-b861-4ee9-a0a7-446932bd01de"
      },
      "execution_count": 8,
      "outputs": [
        {
          "output_type": "stream",
          "name": "stdout",
          "text": [
            "Drive already mounted at /content/drive; to attempt to forcibly remount, call drive.mount(\"/content/drive\", force_remount=True).\n"
          ]
        }
      ]
    },
    {
      "cell_type": "code",
      "source": [
        "#Listando todos...\n",
        "!ls /content/drive/MyDrive/airlines-datasets/"
      ],
      "metadata": {
        "colab": {
          "base_uri": "https://localhost:8080/"
        },
        "id": "4HbUInY_gEGE",
        "outputId": "a42e57ad-fe99-49b6-95e3-07372f2565de"
      },
      "execution_count": 9,
      "outputs": [
        {
          "output_type": "stream",
          "name": "stdout",
          "text": [
            "part-00000.csv\tpart-00004.csv\tpart-00008.csv\tpart-00012.csv\n",
            "part-00001.csv\tpart-00005.csv\tpart-00009.csv\tpart-00013.csv\n",
            "part-00002.csv\tpart-00006.csv\tpart-00010.csv\tpart-00014.csv\n",
            "part-00003.csv\tpart-00007.csv\tpart-00011.csv\tpart-00015.csv\n"
          ]
        }
      ]
    },
    {
      "cell_type": "code",
      "source": [
        "part = spark.read.csv(\"/content/drive/MyDrive/airlines-datasets/part-00000.csv\", header=True, inferSchema=True)"
      ],
      "metadata": {
        "id": "08EAXiFU4qJC"
      },
      "execution_count": 10,
      "outputs": []
    },
    {
      "cell_type": "code",
      "source": [
        "part.printSchema()"
      ],
      "metadata": {
        "colab": {
          "base_uri": "https://localhost:8080/"
        },
        "id": "ozD0ouGleM1x",
        "outputId": "e2490f78-7ad1-47be-ef2b-2617f3c74f7f"
      },
      "execution_count": 11,
      "outputs": [
        {
          "output_type": "stream",
          "name": "stdout",
          "text": [
            "root\n",
            " |-- Year: integer (nullable = true)\n",
            " |-- Month: integer (nullable = true)\n",
            " |-- DayofMonth: integer (nullable = true)\n",
            " |-- DayOfWeek: integer (nullable = true)\n",
            " |-- DepTime: string (nullable = true)\n",
            " |-- CRSDepTime: integer (nullable = true)\n",
            " |-- ArrTime: string (nullable = true)\n",
            " |-- CRSArrTime: integer (nullable = true)\n",
            " |-- UniqueCarrier: string (nullable = true)\n",
            " |-- FlightNum: integer (nullable = true)\n",
            " |-- TailNum: string (nullable = true)\n",
            " |-- ActualElapsedTime: string (nullable = true)\n",
            " |-- CRSElapsedTime: integer (nullable = true)\n",
            " |-- AirTime: string (nullable = true)\n",
            " |-- ArrDelay: string (nullable = true)\n",
            " |-- DepDelay: string (nullable = true)\n",
            " |-- Origin: string (nullable = true)\n",
            " |-- Dest: string (nullable = true)\n",
            " |-- Distance: string (nullable = true)\n",
            " |-- TaxiIn: string (nullable = true)\n",
            " |-- TaxiOut: string (nullable = true)\n",
            " |-- Cancelled: integer (nullable = true)\n",
            " |-- CancellationCode: string (nullable = true)\n",
            " |-- Diverted: integer (nullable = true)\n",
            " |-- CarrierDelay: string (nullable = true)\n",
            " |-- WeatherDelay: string (nullable = true)\n",
            " |-- NASDelay: string (nullable = true)\n",
            " |-- SecurityDelay: string (nullable = true)\n",
            " |-- LateAircraftDelay: string (nullable = true)\n",
            " |-- IsArrDelayed: string (nullable = true)\n",
            " |-- IsDepDelayed: string (nullable = true)\n",
            "\n"
          ]
        }
      ]
    },
    {
      "cell_type": "code",
      "source": [
        "part.show(5)"
      ],
      "metadata": {
        "colab": {
          "base_uri": "https://localhost:8080/"
        },
        "id": "lBrpAr28mA0c",
        "outputId": "d3c5ab00-cfdf-4b07-9295-ea53510ed36d"
      },
      "execution_count": 12,
      "outputs": [
        {
          "output_type": "stream",
          "name": "stdout",
          "text": [
            "+----+-----+----------+---------+-------+----------+-------+----------+-------------+---------+-------+-----------------+--------------+-------+--------+--------+------+----+--------+------+-------+---------+----------------+--------+------------+------------+--------+-------------+-----------------+------------+------------+\n",
            "|Year|Month|DayofMonth|DayOfWeek|DepTime|CRSDepTime|ArrTime|CRSArrTime|UniqueCarrier|FlightNum|TailNum|ActualElapsedTime|CRSElapsedTime|AirTime|ArrDelay|DepDelay|Origin|Dest|Distance|TaxiIn|TaxiOut|Cancelled|CancellationCode|Diverted|CarrierDelay|WeatherDelay|NASDelay|SecurityDelay|LateAircraftDelay|IsArrDelayed|IsDepDelayed|\n",
            "+----+-----+----------+---------+-------+----------+-------+----------+-------------+---------+-------+-----------------+--------------+-------+--------+--------+------+----+--------+------+-------+---------+----------------+--------+------------+------------+--------+-------------+-----------------+------------+------------+\n",
            "|1987|   10|        14|        3|    741|       730|    912|       849|           PS|     1451|     NA|               91|            79|     NA|      23|      11|   SAN| SFO|     447|    NA|     NA|        0|              NA|       0|          NA|          NA|      NA|           NA|               NA|         YES|         YES|\n",
            "|1987|   10|        15|        4|    729|       730|    903|       849|           PS|     1451|     NA|               94|            79|     NA|      14|      -1|   SAN| SFO|     447|    NA|     NA|        0|              NA|       0|          NA|          NA|      NA|           NA|               NA|         YES|          NO|\n",
            "|1987|   10|        17|        6|    741|       730|    918|       849|           PS|     1451|     NA|               97|            79|     NA|      29|      11|   SAN| SFO|     447|    NA|     NA|        0|              NA|       0|          NA|          NA|      NA|           NA|               NA|         YES|         YES|\n",
            "|1987|   10|        18|        7|    729|       730|    847|       849|           PS|     1451|     NA|               78|            79|     NA|      -2|      -1|   SAN| SFO|     447|    NA|     NA|        0|              NA|       0|          NA|          NA|      NA|           NA|               NA|          NO|          NO|\n",
            "|1987|   10|        19|        1|    749|       730|    922|       849|           PS|     1451|     NA|               93|            79|     NA|      33|      19|   SAN| SFO|     447|    NA|     NA|        0|              NA|       0|          NA|          NA|      NA|           NA|               NA|         YES|         YES|\n",
            "+----+-----+----------+---------+-------+----------+-------+----------+-------------+---------+-------+-----------------+--------------+-------+--------+--------+------+----+--------+------+-------+---------+----------------+--------+------------+------------+--------+-------------+-----------------+------------+------------+\n",
            "only showing top 5 rows\n",
            "\n"
          ]
        }
      ]
    },
    {
      "cell_type": "code",
      "source": [
        "#Utilizando part-00000.csv como entrada para criar a versão da stream. Depois, será lido cada arquivo um por um, simulando um sistema de streaming de dados\n",
        "dataSchema = part.schema\n",
        "dataSchema"
      ],
      "metadata": {
        "colab": {
          "base_uri": "https://localhost:8080/"
        },
        "id": "aiiidQuQepUq",
        "outputId": "4c98212e-62b1-42c6-95be-d45d9f68e388"
      },
      "execution_count": 13,
      "outputs": [
        {
          "output_type": "execute_result",
          "data": {
            "text/plain": [
              "StructType(List(StructField(Year,IntegerType,true),StructField(Month,IntegerType,true),StructField(DayofMonth,IntegerType,true),StructField(DayOfWeek,IntegerType,true),StructField(DepTime,StringType,true),StructField(CRSDepTime,IntegerType,true),StructField(ArrTime,StringType,true),StructField(CRSArrTime,IntegerType,true),StructField(UniqueCarrier,StringType,true),StructField(FlightNum,IntegerType,true),StructField(TailNum,StringType,true),StructField(ActualElapsedTime,StringType,true),StructField(CRSElapsedTime,IntegerType,true),StructField(AirTime,StringType,true),StructField(ArrDelay,StringType,true),StructField(DepDelay,StringType,true),StructField(Origin,StringType,true),StructField(Dest,StringType,true),StructField(Distance,StringType,true),StructField(TaxiIn,StringType,true),StructField(TaxiOut,StringType,true),StructField(Cancelled,IntegerType,true),StructField(CancellationCode,StringType,true),StructField(Diverted,IntegerType,true),StructField(CarrierDelay,StringType,true),StructField(WeatherDelay,StringType,true),StructField(NASDelay,StringType,true),StructField(SecurityDelay,StringType,true),StructField(LateAircraftDelay,StringType,true),StructField(IsArrDelayed,StringType,true),StructField(IsDepDelayed,StringType,true)))"
            ]
          },
          "metadata": {},
          "execution_count": 13
        }
      ]
    },
    {
      "cell_type": "code",
      "source": [
        "#Limitando o flow de streaming para 1 arquivo de cada vez por trigger\n",
        "streaming = (\n",
        "    spark.readStream.schema(dataSchema)\n",
        "    .option(\"maxFilesPerTrigger\", 1)\n",
        "    .csv(\"/content/drive/MyDrive/airlines-datasets/\")\n",
        ")"
      ],
      "metadata": {
        "id": "EUn4LxmqjR-g"
      },
      "execution_count": 14,
      "outputs": []
    },
    {
      "cell_type": "code",
      "source": [
        "#Aplicando transformação: rankeando número de voo com respectivas origens e destinos com as maiores médias de atrasos de chegada a partir de um total de 20 voos\n",
        "streaming.createOrReplaceTempView('ranking_arrDelay_table')\n",
        "ranking_arrDelay = spark.sql('''SELECT * FROM (\n",
        "              SELECT FlightNum, Origin, Dest, count(*) as total_flights, round(mean(ArrDelay),2) as mean_ArrDelay_in_minutes \n",
        "              FROM ranking_arrDelay_table \n",
        "              GROUP BY flightNum, Origin, Dest \n",
        "              ORDER BY mean_ArrDelay_in_minutes desc\n",
        "             )\n",
        "             WHERE total_flights > 20''')"
      ],
      "metadata": {
        "id": "Sbg5hFUQvj79"
      },
      "execution_count": 15,
      "outputs": []
    },
    {
      "cell_type": "code",
      "source": [
        "activityQuery = (\n",
        "    ranking_arrDelay.writeStream.queryName(\"ranking_arrDelay_table\")\n",
        "    .format(\"memory\")\n",
        "    .outputMode(\"complete\")\n",
        "    .start()\n",
        ")\n",
        "\n",
        "import time\n",
        "\n",
        "for x in range(15):\n",
        "    _df = spark.sql(\"SELECT * FROM ranking_arrDelay_table\")\n",
        "    if _df.count() > 0:\n",
        "        print(\"Total rows:\", _df.count())\n",
        "        _df.show(10)\n",
        "    time.sleep(1)"
      ],
      "metadata": {
        "colab": {
          "base_uri": "https://localhost:8080/"
        },
        "id": "ie1CQAvRv7kQ",
        "outputId": "55625be3-4719-4d61-d7e7-ee1fdae16364"
      },
      "execution_count": 16,
      "outputs": [
        {
          "output_type": "stream",
          "name": "stdout",
          "text": [
            "Total rows: 16542\n",
            "+---------+------+----+-------------+------------------------+\n",
            "|FlightNum|Origin|Dest|total_flights|mean_ArrDelay_in_minutes|\n",
            "+---------+------+----+-------------+------------------------+\n",
            "|      355|   DEN| SEA|           30|                   73.66|\n",
            "|       81|   LAX| HNL|           34|                   66.03|\n",
            "|      398|   LAS| ABQ|           36|                   65.81|\n",
            "|      960|   SJU| EWR|           81|                   64.23|\n",
            "|      103|   ATL| PHX|           25|                   58.92|\n",
            "|      399|   MSP| SMF|           27|                    58.1|\n",
            "|     1105|   DEN| SFO|           69|                   57.93|\n",
            "|      345|   SJC| SFO|           28|                   56.81|\n",
            "|      325|   MCI| SFO|           85|                   55.93|\n",
            "|     1637|   IAD| DEN|           54|                   55.44|\n",
            "+---------+------+----+-------------+------------------------+\n",
            "only showing top 10 rows\n",
            "\n",
            "Total rows: 18677\n",
            "+---------+------+----+-------------+------------------------+\n",
            "|FlightNum|Origin|Dest|total_flights|mean_ArrDelay_in_minutes|\n",
            "+---------+------+----+-------------+------------------------+\n",
            "|     1631|   ATL| DEN|           21|                   115.8|\n",
            "|      863|   BOS| TPA|           27|                   76.96|\n",
            "|      855|   DEN| LAX|           38|                   72.57|\n",
            "|      970|   MIA| BOS|           64|                   70.67|\n",
            "|     1421|   SLC| ANC|           43|                   69.32|\n",
            "|     1721|   SEA| ANC|           36|                   68.17|\n",
            "|      398|   LAS| ABQ|           36|                   65.81|\n",
            "|      658|   MSP| MKE|           34|                   64.09|\n",
            "|       85|   MIA| SJU|           34|                   62.18|\n",
            "|      505|   MIA| LAX|           91|                   61.69|\n",
            "+---------+------+----+-------------+------------------------+\n",
            "only showing top 10 rows\n",
            "\n",
            "Total rows: 22995\n",
            "+---------+------+----+-------------+------------------------+\n",
            "|FlightNum|Origin|Dest|total_flights|mean_ArrDelay_in_minutes|\n",
            "+---------+------+----+-------------+------------------------+\n",
            "|     1631|   ATL| DEN|           21|                   115.8|\n",
            "|       12|   HNL| SFO|           24|                   77.13|\n",
            "|      398|   LAS| ABQ|           36|                   65.81|\n",
            "|      658|   MSP| MKE|           34|                   64.09|\n",
            "|      779|   MLB| EWR|           23|                   61.45|\n",
            "|       11|   SFO| HNL|           24|                   60.88|\n",
            "|     1605|   IAD| DEN|           47|                    60.5|\n",
            "|      970|   MIA| BOS|           92|                   59.47|\n",
            "|      103|   ATL| PHX|           25|                   58.92|\n",
            "|     1038|   ATL| EWR|           24|                   58.33|\n",
            "+---------+------+----+-------------+------------------------+\n",
            "only showing top 10 rows\n",
            "\n",
            "Total rows: 26106\n",
            "+---------+------+----+-------------+------------------------+\n",
            "|FlightNum|Origin|Dest|total_flights|mean_ArrDelay_in_minutes|\n",
            "+---------+------+----+-------------+------------------------+\n",
            "|     1631|   ATL| DEN|           21|                   115.8|\n",
            "|       59|   DEN| LAX|           21|                   87.24|\n",
            "|     1038|   ATL| EWR|           28|                   79.25|\n",
            "|      398|   LAS| ABQ|           36|                   65.81|\n",
            "|      779|   MLB| EWR|           23|                   61.45|\n",
            "|       12|   HNL| SFO|           32|                   61.06|\n",
            "|     1605|   IAD| DEN|           47|                    60.5|\n",
            "|      103|   ATL| PHX|           25|                   58.92|\n",
            "|      921|   FLL| MIA|           29|                   57.11|\n",
            "|      970|   MIA| BOS|          116|                   55.96|\n",
            "+---------+------+----+-------------+------------------------+\n",
            "only showing top 10 rows\n",
            "\n",
            "Total rows: 29195\n",
            "+---------+------+----+-------------+------------------------+\n",
            "|FlightNum|Origin|Dest|total_flights|mean_ArrDelay_in_minutes|\n",
            "+---------+------+----+-------------+------------------------+\n",
            "|     1631|   ATL| DEN|           21|                   115.8|\n",
            "|     1038|   ATL| EWR|           32|                   72.53|\n",
            "|       59|   DEN| LAX|           30|                   66.37|\n",
            "|      398|   LAS| ABQ|           36|                   65.81|\n",
            "|      779|   MLB| EWR|           23|                   61.45|\n",
            "|     1605|   IAD| DEN|           47|                    60.5|\n",
            "|      103|   ATL| PHX|           25|                   58.92|\n",
            "|      921|   FLL| MIA|           29|                   57.11|\n",
            "|      970|   MIA| BOS|          116|                   55.96|\n",
            "|      838|   EWR| BTV|           23|                   55.86|\n",
            "+---------+------+----+-------------+------------------------+\n",
            "only showing top 10 rows\n",
            "\n",
            "Total rows: 33242\n",
            "+---------+------+----+-------------+------------------------+\n",
            "|FlightNum|Origin|Dest|total_flights|mean_ArrDelay_in_minutes|\n",
            "+---------+------+----+-------------+------------------------+\n",
            "|     1631|   ATL| DEN|           21|                   115.8|\n",
            "|     1038|   ATL| EWR|           32|                   72.53|\n",
            "|      398|   LAS| ABQ|           36|                   65.81|\n",
            "|      760|   LNK| ORD|           31|                   63.43|\n",
            "|       59|   DEN| LAX|           34|                    63.0|\n",
            "|      779|   MLB| EWR|           23|                   61.45|\n",
            "|     1605|   IAD| DEN|           47|                    60.5|\n",
            "|      103|   ATL| PHX|           25|                   58.92|\n",
            "|       45|   JFK| MIA|          111|                   57.94|\n",
            "|      473|   JFK| PIT|           24|                   57.17|\n",
            "+---------+------+----+-------------+------------------------+\n",
            "only showing top 10 rows\n",
            "\n",
            "Total rows: 36796\n",
            "+---------+------+----+-------------+------------------------+\n",
            "|FlightNum|Origin|Dest|total_flights|mean_ArrDelay_in_minutes|\n",
            "+---------+------+----+-------------+------------------------+\n",
            "|     1631|   ATL| DEN|           21|                   115.8|\n",
            "|     1038|   ATL| EWR|           32|                   72.53|\n",
            "|      398|   LAS| ABQ|           36|                   65.81|\n",
            "|       59|   DEN| LAX|           44|                   62.57|\n",
            "|      779|   MLB| EWR|           23|                   61.45|\n",
            "|     1605|   IAD| DEN|           47|                    60.5|\n",
            "|      103|   ATL| PHX|           25|                   58.92|\n",
            "|      921|   FLL| MIA|           29|                   57.11|\n",
            "|      970|   MIA| BOS|          116|                   55.96|\n",
            "|      838|   EWR| BTV|           23|                   55.86|\n",
            "+---------+------+----+-------------+------------------------+\n",
            "only showing top 10 rows\n",
            "\n",
            "Total rows: 39921\n",
            "+---------+------+----+-------------+------------------------+\n",
            "|FlightNum|Origin|Dest|total_flights|mean_ArrDelay_in_minutes|\n",
            "+---------+------+----+-------------+------------------------+\n",
            "|     1631|   ATL| DEN|           21|                   115.8|\n",
            "|     1038|   ATL| EWR|           32|                   72.53|\n",
            "|      398|   LAS| ABQ|           36|                   65.81|\n",
            "|      779|   MLB| EWR|           23|                   61.45|\n",
            "|     1605|   IAD| DEN|           47|                    60.5|\n",
            "|      103|   ATL| PHX|           25|                   58.92|\n",
            "|      921|   FLL| MIA|           29|                   57.11|\n",
            "|      970|   MIA| BOS|          116|                   55.96|\n",
            "|      838|   EWR| BTV|           23|                   55.86|\n",
            "|      711|   PIT| ERI|           21|                   55.71|\n",
            "+---------+------+----+-------------+------------------------+\n",
            "only showing top 10 rows\n",
            "\n",
            "Total rows: 45518\n",
            "+---------+------+----+-------------+------------------------+\n",
            "|FlightNum|Origin|Dest|total_flights|mean_ArrDelay_in_minutes|\n",
            "+---------+------+----+-------------+------------------------+\n",
            "|     1631|   ATL| DEN|           21|                   115.8|\n",
            "|     1038|   ATL| EWR|           32|                   72.53|\n",
            "|      398|   LAS| ABQ|           36|                   65.81|\n",
            "|      779|   MLB| EWR|           23|                   61.45|\n",
            "|     1605|   IAD| DEN|           47|                    60.5|\n",
            "|      103|   ATL| PHX|           25|                   58.92|\n",
            "|      921|   FLL| MIA|           29|                   57.11|\n",
            "|      970|   MIA| BOS|          116|                   55.96|\n",
            "|      838|   EWR| BTV|           23|                   55.86|\n",
            "|      711|   PIT| ERI|           21|                   55.71|\n",
            "+---------+------+----+-------------+------------------------+\n",
            "only showing top 10 rows\n",
            "\n"
          ]
        }
      ]
    },
    {
      "cell_type": "code",
      "source": [
        "spark.streams.active[0].isActive"
      ],
      "metadata": {
        "colab": {
          "base_uri": "https://localhost:8080/"
        },
        "id": "ZEQcLY7vxuby",
        "outputId": "6f8bac19-837f-4f2b-e1e3-2d2a290d74fe"
      },
      "execution_count": 17,
      "outputs": [
        {
          "output_type": "execute_result",
          "data": {
            "text/plain": [
              "True"
            ]
          },
          "metadata": {},
          "execution_count": 17
        }
      ]
    },
    {
      "cell_type": "code",
      "source": [
        "activityQuery.status"
      ],
      "metadata": {
        "colab": {
          "base_uri": "https://localhost:8080/"
        },
        "id": "bJtNnmoXx0Uc",
        "outputId": "9de00827-4040-45e5-e2e4-44547611878c"
      },
      "execution_count": 18,
      "outputs": [
        {
          "output_type": "execute_result",
          "data": {
            "text/plain": [
              "{'isDataAvailable': True,\n",
              " 'isTriggerActive': True,\n",
              " 'message': 'Processing new data'}"
            ]
          },
          "metadata": {},
          "execution_count": 18
        }
      ]
    },
    {
      "cell_type": "code",
      "source": [
        "activityQuery.stop()"
      ],
      "metadata": {
        "id": "h95jS2EHx1m8"
      },
      "execution_count": 19,
      "outputs": []
    }
  ]
}